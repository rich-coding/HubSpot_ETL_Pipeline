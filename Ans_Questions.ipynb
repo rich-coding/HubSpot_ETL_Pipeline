{
 "cells": [
  {
   "cell_type": "markdown",
   "id": "be718757",
   "metadata": {},
   "source": [
    "| Questions                                              | Answers                                                                                                                                                                                                                                                                                           |\n",
    "|--------------------------------------------------------|--------------------------------------------------------------------------------------------------------------------------------------------------------------------------------------------------------------------------------------------------------------------------------------------------|\n",
    "| What is your usual IDE?                                | I primarily use VS Code and Jupyter Lab.                                                                                                                                                                                                                                                          |\n",
    "| What are the advantages of this IDE over the others?   | VS Code offers many useful extensions. One notable example is Rainbow CSV, which enhances working with this kind of files without leaving the IDE. Jupyter Lab also comes with numerous extensions and a user-friendly interface. I particularly appreciate the automatic function documentation with examples, which, in my opinion, works better in Jupyter Lab than in VS Code. Both IDEs provide a comfortable programming environment. |\n",
    "| Which of the items resulted in the most computational time for you? Add time in seconds. | The upload process consumed the most computational time because I couldn't push all 100 contacts at once due to the JSON format for properties. Consequently, I had to send them one by one. The total time for this process was 2697.3 seconds, equivalent to 44 minutes and 57.3 seconds. The next large time was of 177s = 2min + 57s to Transformation Data process.                               |\n",
    "| If you have any public portfolio (e.g., AI, computer vision, data processing…), please share the link with us. | I have a machine learning project that I completed last year. Although I haven't uploaded it to GitHub yet, I am in the process of completing the documentation. For now, you can access it through Google Colab: [ML Project](https://colab.research.google.com/drive/1nj4hZlfjcNUK8-uPQUFpZWoAo-QnhQ5I?usp=sharing). On the other hand, this is my GitHub, but it is under construction: [https://github.com/rich-coding](https://github.com/rich-coding) |\n"
   ]
  }
 ],
 "metadata": {
  "kernelspec": {
   "display_name": "Python 3 (ipykernel)",
   "language": "python",
   "name": "python3"
  },
  "language_info": {
   "codemirror_mode": {
    "name": "ipython",
    "version": 3
   },
   "file_extension": ".py",
   "mimetype": "text/x-python",
   "name": "python",
   "nbconvert_exporter": "python",
   "pygments_lexer": "ipython3",
   "version": "3.11.4"
  }
 },
 "nbformat": 4,
 "nbformat_minor": 5
}
